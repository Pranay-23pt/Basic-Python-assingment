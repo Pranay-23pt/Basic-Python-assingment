{
  "nbformat": 4,
  "nbformat_minor": 0,
  "metadata": {
    "colab": {
      "provenance": []
    },
    "kernelspec": {
      "name": "python3",
      "display_name": "Python 3"
    },
    "language_info": {
      "name": "python"
    }
  },
  "cells": [
    {
      "cell_type": "code",
      "execution_count": null,
      "metadata": {
        "id": "1K8MoDJuIHG1"
      },
      "outputs": [],
      "source": []
    },
    {
      "cell_type": "markdown",
      "source": [
        "1. What is Python, and why is it popular?\n",
        "\n",
        "- Python is a programming language that is easy to read and write because it looks like simple English. It is popular because it is beginner-friendly, works on all platforms, has a huge library of tools, and can be used in many fields like web development, data science, AI, automation, and more.\n",
        "\n",
        "2. What is an interpreter in Python?\n",
        "\n",
        "- An interpreter is a program that runs Python code line by line. It reads the code, translates it into machine language, and executes it immediately. This makes Python easy to test and debug compared to compiled languages.\n",
        "\n",
        "3. What are pre-defined keywords in Python?\n",
        "\n",
        "- Keywords are special reserved words in Python that have fixed meanings and are part of the language itself. They are used to define the structure and rules of Python programs. Example: if, else, while, for, class, True, False.\n",
        "\n",
        "4. Can keywords be used as variable names?\n",
        "\n",
        "- No. Keywords cannot be used as variable names because they already have a special meaning in Python. If we try, it will give an error.\n",
        "\n",
        "5. What is mutability in Python?\n",
        "\n",
        "- Mutability means whether the content of an object can be changed after it is created. If it can be changed (like lists), the object is mutable. If it cannot be changed (like tuples and strings), the object is immutable.\n",
        "\n",
        "6. Why are lists mutable, but tuples are immutable?\n",
        "\n",
        "- - Lists are designed to be flexible, so we can add, remove, or update items in them. Tuples are designed to store fixed data, so once created, they cannot be changed. This makes tuples faster and safer for constant data.\n",
        "\n",
        "7. What is the difference between == and is operators in Python?\n",
        "\n",
        "- == checks if two objects have the same value.\n",
        "\n",
        "- is checks if two objects are stored in the same memory location (identity).\n",
        "Example: two lists with the same values are equal (==), but they are different objects (is is False).\n",
        "\n",
        "8. What are logical operators in Python?\n",
        "\n",
        "- Logical operators are used to combine conditions in Python.\n",
        "\n",
        "- and → returns True if both conditions are True.\n",
        "\n",
        "- or → returns True if at least one condition is True.\n",
        "\n",
        "- not → reverses the condition (True becomes False, False becomes True).\n",
        "\n",
        "9. What is type casting in Python?\n",
        "\n",
        "- Type casting means converting one data type into another. For example, changing a string \"5\" into an integer 5 or converting an integer into a float.\n",
        "\n",
        "10. What is the difference between implicit and explicit type casting?\n",
        "\n",
        "- Implicit casting is done automatically by Python when it is safe. Example: 3 + 2.5 becomes 5.5 because the integer is converted into a float.\n",
        "\n",
        "- Explicit casting is when we manually change a type using functions like int(), float(), str(). Example: int(\"10\") → 10.\n",
        "\n",
        "11. What is the purpose of conditional statements in Python?\n",
        "\n",
        "- Conditional statements are used to make decisions in a program. They check a condition and then run specific code depending on whether the condition is True or False.\n",
        "\n",
        "12. How does the elif statement work?\n",
        "\n",
        "- elif means \"else if\". It is used when we need to check multiple conditions one after another. If the first condition is False, Python checks the next one using elif.\n",
        "\n",
        "13. What is the difference between for and while loops?\n",
        "\n",
        "- for loop is used when we know how many times we want to repeat something (for example, repeating over a list or range of numbers).\n",
        "\n",
        "- while loop is used when we don’t know how many times to repeat, and we want to keep running as long as a condition is True.\n",
        "\n",
        "14. Describe a scenario where a while loop is more suitable than a for loop.\n",
        "\n",
        "- A while loop is better when the number of repetitions is not fixed. For example, asking a user to enter the correct password. We don’t know how many attempts they will take, so we keep looping until they enter the right one."
      ],
      "metadata": {
        "id": "W9SfN4dgMq5I"
      }
    },
    {
      "cell_type": "markdown",
      "source": [
        "1) Write a Python program to print \"Hello, World!?\n",
        "\n",
        "\n"
      ],
      "metadata": {
        "id": "gFSv68dpPuNo"
      }
    },
    {
      "cell_type": "code",
      "source": [
        "print(\"Hello, World!\")"
      ],
      "metadata": {
        "colab": {
          "base_uri": "https://localhost:8080/"
        },
        "id": "d97EW34YRAkc",
        "outputId": "6b3f0c26-5dd3-40e7-8f4e-74e8bf6d2db9"
      },
      "execution_count": 1,
      "outputs": [
        {
          "output_type": "stream",
          "name": "stdout",
          "text": [
            "Hello, World!\n"
          ]
        }
      ]
    },
    {
      "cell_type": "markdown",
      "source": [
        "2. Write a Python program that displays your name and age?"
      ],
      "metadata": {
        "id": "ZCkGjXiiRdvO"
      }
    },
    {
      "cell_type": "code",
      "source": [
        "name = \"Pranay\"\n",
        "age = 20\n",
        "print(\"Name:\", name)\n",
        "print(\"Age:\", age)\n"
      ],
      "metadata": {
        "colab": {
          "base_uri": "https://localhost:8080/"
        },
        "id": "FZ7DQk7nSBEJ",
        "outputId": "e3288695-eb28-4e2c-a314-01842243386e"
      },
      "execution_count": 2,
      "outputs": [
        {
          "output_type": "stream",
          "name": "stdout",
          "text": [
            "Name: Pranay\n",
            "Age: 20\n"
          ]
        }
      ]
    },
    {
      "cell_type": "markdown",
      "source": [
        "3. Write code to print all the pre-defined keywords in Python using the keyword library?"
      ],
      "metadata": {
        "id": "dFji5Xg0SRYV"
      }
    },
    {
      "cell_type": "code",
      "source": [
        "import keyword\n",
        "print(\"Python Keywords are:\")\n",
        "print(keyword.kwlist)\n"
      ],
      "metadata": {
        "colab": {
          "base_uri": "https://localhost:8080/"
        },
        "id": "9tD2BGa9Sggc",
        "outputId": "783b43d3-956c-4be6-af8f-f2a496937056"
      },
      "execution_count": 3,
      "outputs": [
        {
          "output_type": "stream",
          "name": "stdout",
          "text": [
            "Python Keywords are:\n",
            "['False', 'None', 'True', 'and', 'as', 'assert', 'async', 'await', 'break', 'class', 'continue', 'def', 'del', 'elif', 'else', 'except', 'finally', 'for', 'from', 'global', 'if', 'import', 'in', 'is', 'lambda', 'nonlocal', 'not', 'or', 'pass', 'raise', 'return', 'try', 'while', 'with', 'yield']\n"
          ]
        }
      ]
    },
    {
      "cell_type": "markdown",
      "source": [
        "4. Write a program that checks if a given word is a Python keyword?"
      ],
      "metadata": {
        "id": "e2taG-xiSuGa"
      }
    },
    {
      "cell_type": "code",
      "source": [
        "import keyword\n",
        "w = input(\"Enter a word: \")\n",
        "print(w, \"is keyword?\", keyword.iskeyword(w))\n"
      ],
      "metadata": {
        "colab": {
          "base_uri": "https://localhost:8080/"
        },
        "id": "X01o9foSS1iH",
        "outputId": "9a5729ee-6a2a-422f-eaf9-a675292c3aef"
      },
      "execution_count": 4,
      "outputs": [
        {
          "output_type": "stream",
          "name": "stdout",
          "text": [
            "Enter a word: def\n",
            "def is keyword? True\n"
          ]
        }
      ]
    },
    {
      "cell_type": "markdown",
      "source": [
        "5. Create a list and tuple in Python, and demonstrate how attempting to change an element works differently\n",
        "for each."
      ],
      "metadata": {
        "id": "KiCExyYZTUre"
      }
    },
    {
      "cell_type": "code",
      "source": [
        "def change_list(a):\n",
        "    a.append(10)\n",
        "\n",
        "def change_num(x):\n",
        "    x = x + 5\n",
        "    print(\"Inside:\", x)\n",
        "\n",
        "lst = [1,2,3]\n",
        "change_list(lst)\n",
        "print(\"List:\", lst)\n",
        "\n",
        "n = 5\n",
        "change_num(n)\n",
        "print(\"Number:\", n)\n"
      ],
      "metadata": {
        "colab": {
          "base_uri": "https://localhost:8080/"
        },
        "id": "p7gNzDGuTaKF",
        "outputId": "e26f703a-9ede-44a6-ca4f-d74dcca6cb13"
      },
      "execution_count": 5,
      "outputs": [
        {
          "output_type": "stream",
          "name": "stdout",
          "text": [
            "List: [1, 2, 3, 10]\n",
            "Inside: 10\n",
            "Number: 5\n"
          ]
        }
      ]
    },
    {
      "cell_type": "markdown",
      "source": [
        "6. Write a function to demonstrate the behavior of mutable and immutable arguments"
      ],
      "metadata": {
        "id": "qpQI4DWQTlJg"
      }
    },
    {
      "cell_type": "code",
      "source": [
        "a = int(input(\"a: \"))\n",
        "b = int(input(\"b: \"))\n",
        "print(a+b, a-b, a*b, a/b)\n"
      ],
      "metadata": {
        "colab": {
          "base_uri": "https://localhost:8080/"
        },
        "id": "HG-Tbe6dTokA",
        "outputId": "7ac2e13a-00eb-47f3-ad63-5cc13728c31f"
      },
      "execution_count": 7,
      "outputs": [
        {
          "output_type": "stream",
          "name": "stdout",
          "text": [
            "a: 3\n",
            "b: 3\n",
            "6 0 9 1.0\n"
          ]
        }
      ]
    },
    {
      "cell_type": "markdown",
      "source": [
        "7. Write a program that performs basic arithmetic operations on two user-input numbers."
      ],
      "metadata": {
        "id": "aVMaROGzT01J"
      }
    },
    {
      "cell_type": "code",
      "source": [
        "x, y = True, False\n",
        "print(x and y, x or y, not x)\n"
      ],
      "metadata": {
        "colab": {
          "base_uri": "https://localhost:8080/"
        },
        "id": "tQ7VJmPiT4e-",
        "outputId": "bfd9f4ad-ae5e-4f00-d228-857eb985dc17"
      },
      "execution_count": 8,
      "outputs": [
        {
          "output_type": "stream",
          "name": "stdout",
          "text": [
            "False True False\n"
          ]
        }
      ]
    },
    {
      "cell_type": "markdown",
      "source": [
        "8. Write a program to demonstrate the use of logical operators"
      ],
      "metadata": {
        "id": "J6DFxze7T8Cn"
      }
    },
    {
      "cell_type": "code",
      "source": [
        "lst = [1,2,3]\n",
        "lst[0] = 10\n",
        "print(lst)\n",
        "\n",
        "tup = (1,2,3)\n",
        "# tup[0] = 10  # error\n"
      ],
      "metadata": {
        "colab": {
          "base_uri": "https://localhost:8080/"
        },
        "id": "1FWZ9PBCUBmV",
        "outputId": "8d373f61-c8bb-4c3b-ec64-8b223d3a3f36"
      },
      "execution_count": 9,
      "outputs": [
        {
          "output_type": "stream",
          "name": "stdout",
          "text": [
            "[10, 2, 3]\n"
          ]
        }
      ]
    },
    {
      "cell_type": "markdown",
      "source": [
        "9. Write a Python program to convert user input from string to integer, float, and boolean types"
      ],
      "metadata": {
        "id": "5YnmNatPUFcJ"
      }
    },
    {
      "cell_type": "code",
      "source": [
        "v = input(\"Enter: \")\n",
        "print(str(v))\n",
        "print(int(v))\n",
        "print(float(v))\n",
        "print(bool(v))\n"
      ],
      "metadata": {
        "colab": {
          "base_uri": "https://localhost:8080/"
        },
        "id": "gms7sUsHUIn6",
        "outputId": "5894645b-4a86-41e1-b84a-ac9445b36e66"
      },
      "execution_count": 11,
      "outputs": [
        {
          "output_type": "stream",
          "name": "stdout",
          "text": [
            "Enter: 5\n",
            "5\n",
            "5\n",
            "5.0\n",
            "True\n"
          ]
        }
      ]
    },
    {
      "cell_type": "markdown",
      "source": [
        "10. Write code to demonstrate type casting with list elements."
      ],
      "metadata": {
        "id": "9zboz-iLUaZd"
      }
    },
    {
      "cell_type": "code",
      "source": [
        "lst = [\"1\",\"2\",\"3\"]\n",
        "print([int(x) for x in lst])\n",
        "print([float(x) for x in lst])\n"
      ],
      "metadata": {
        "colab": {
          "base_uri": "https://localhost:8080/"
        },
        "id": "pVW06mEXUe8F",
        "outputId": "dbc0a53d-29f4-4c1b-f0e3-35e859fb8238"
      },
      "execution_count": 12,
      "outputs": [
        {
          "output_type": "stream",
          "name": "stdout",
          "text": [
            "[1, 2, 3]\n",
            "[1.0, 2.0, 3.0]\n"
          ]
        }
      ]
    },
    {
      "cell_type": "markdown",
      "source": [
        "11. Write a program that checks if a number is positive, negative, or zero."
      ],
      "metadata": {
        "id": "q1ViOap3UkZp"
      }
    },
    {
      "cell_type": "code",
      "source": [
        "n = int(input(\"Enter number: \"))\n",
        "if n > 0: print(\"Positive\")\n",
        "elif n < 0: print(\"Negative\")\n",
        "else: print(\"Zero\")\n"
      ],
      "metadata": {
        "colab": {
          "base_uri": "https://localhost:8080/"
        },
        "id": "EBl5-ezvUope",
        "outputId": "4610f91e-0cc3-4acb-8751-92a0679f8ab2"
      },
      "execution_count": 13,
      "outputs": [
        {
          "output_type": "stream",
          "name": "stdout",
          "text": [
            "Enter number: 2\n",
            "Positive\n"
          ]
        }
      ]
    },
    {
      "cell_type": "markdown",
      "source": [
        "12. Write a for loop to print numbers from 1 to 10."
      ],
      "metadata": {
        "id": "DM8mm4kyUu0L"
      }
    },
    {
      "cell_type": "code",
      "source": [
        "for i in range(1,11):\n",
        "    print(i)\n"
      ],
      "metadata": {
        "colab": {
          "base_uri": "https://localhost:8080/"
        },
        "id": "RVbGUSUcUyvF",
        "outputId": "86419e0c-4f31-4698-9611-eb663d8d19a6"
      },
      "execution_count": 14,
      "outputs": [
        {
          "output_type": "stream",
          "name": "stdout",
          "text": [
            "1\n",
            "2\n",
            "3\n",
            "4\n",
            "5\n",
            "6\n",
            "7\n",
            "8\n",
            "9\n",
            "10\n"
          ]
        }
      ]
    },
    {
      "cell_type": "markdown",
      "source": [
        "13. Write a Python program to find the sum of all even numbers between 1 and 50."
      ],
      "metadata": {
        "id": "2Ip3__mSU3J8"
      }
    },
    {
      "cell_type": "code",
      "source": [
        "p = 0\n",
        "for i in range(2,51,2):\n",
        "    p += i\n",
        "print(p)\n"
      ],
      "metadata": {
        "colab": {
          "base_uri": "https://localhost:8080/"
        },
        "id": "WhoplDu_U6Cm",
        "outputId": "205003b1-6b96-4634-a305-bd749c05b61d"
      },
      "execution_count": 16,
      "outputs": [
        {
          "output_type": "stream",
          "name": "stdout",
          "text": [
            "650\n"
          ]
        }
      ]
    },
    {
      "cell_type": "markdown",
      "source": [
        "14. Write a program to reverse a string using a while loop."
      ],
      "metadata": {
        "id": "qmVl1VpiVEYs"
      }
    },
    {
      "cell_type": "code",
      "source": [
        "s = input(\"Enter: \")\n",
        "r = \"\"\n",
        "i = len(s)-1\n",
        "while i >= 0:\n",
        "    r += s[i]\n",
        "    i -= 1\n",
        "print(r)\n"
      ],
      "metadata": {
        "colab": {
          "base_uri": "https://localhost:8080/"
        },
        "id": "loY45EpbVh9u",
        "outputId": "0b6e1a65-aac4-4b43-d4d7-46f6d0918313"
      },
      "execution_count": 22,
      "outputs": [
        {
          "output_type": "stream",
          "name": "stdout",
          "text": [
            "Enter: 5 7 8 9\n",
            "9 8 7 5\n"
          ]
        }
      ]
    },
    {
      "cell_type": "markdown",
      "source": [
        "15. Write a Python program to calculate the factorial of a number provided by the user using a while loop"
      ],
      "metadata": {
        "id": "oNfyigGFVxot"
      }
    },
    {
      "cell_type": "code",
      "source": [
        "n = int(input(\"Enter: \"))\n",
        "f, i = 1, 1\n",
        "while i <= n:\n",
        "    f *= i\n",
        "    i += 1\n",
        "print(f)\n"
      ],
      "metadata": {
        "colab": {
          "base_uri": "https://localhost:8080/"
        },
        "id": "NzYuIVXpW4kO",
        "outputId": "27b28da1-0318-482b-f5a4-340606c0a32c"
      },
      "execution_count": 23,
      "outputs": [
        {
          "output_type": "stream",
          "name": "stdout",
          "text": [
            "Enter: 5\n",
            "120\n"
          ]
        }
      ]
    }
  ]
}